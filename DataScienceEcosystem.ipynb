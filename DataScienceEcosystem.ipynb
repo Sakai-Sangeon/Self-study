{
 "cells": [
  {
   "cell_type": "markdown",
   "id": "48661446-708b-487d-8191-c1b35beb54d5",
   "metadata": {},
   "source": [
    "# Data Science Tools and Ecosystem\n",
    "In this notebook, Data Science Tools and Ecosystem are summarized."
   ]
  },
  {
   "cell_type": "markdown",
   "id": "58ec23eb-8073-4795-81cf-423d66021abb",
   "metadata": {},
   "source": [
    "**Objectives:**\n",
    "- List popuplar languages for Data Science.\n",
    "- List commmoly used libraries used by Data Scientists.\n",
    "- List tools for Data Science.\n",
    "- Show some examples of evaluating arthmetic expressions in Python."
   ]
  },
  {
   "cell_type": "markdown",
   "id": "9fb79e31-dede-4637-b2a0-658481f8cc99",
   "metadata": {},
   "source": [
    "Some of the popular languages that Data Scientists use are: \n",
    "1. python\n",
    "2. jupyter notebook\n",
    "3. R"
   ]
  },
  {
   "cell_type": "markdown",
   "id": "3c6fcc7b-8a9c-43d1-ab3b-2005710f6b8f",
   "metadata": {},
   "source": [
    "Some of the commonly used libraries used by Data Scientists include:\n",
    "1. pandas\n",
    "2. numpy\n",
    "3. Matplotlib"
   ]
  },
  {
   "cell_type": "markdown",
   "id": "a7f948f6-2cc9-4d54-b24c-b5e6128fc142",
   "metadata": {},
   "source": [
    "|Data Science Tools|\n",
    "|------------------|\n",
    "|Hadoop|\n",
    "|HDFS|\n",
    "|Hive|\n"
   ]
  },
  {
   "cell_type": "markdown",
   "id": "c78cb1cc-c24d-4b0c-9ace-ba5ec1212da0",
   "metadata": {},
   "source": [
    "### Below are a few examples of evaluating arithmetic expressions in Python."
   ]
  },
  {
   "cell_type": "code",
   "execution_count": 23,
   "id": "5f069ccb-c388-4b10-9a5b-524e6c6ee600",
   "metadata": {},
   "outputs": [
    {
     "data": {
      "text/plain": [
       "17"
      ]
     },
     "execution_count": 23,
     "metadata": {},
     "output_type": "execute_result"
    }
   ],
   "source": [
    "#This a simple arithmetic expression to mutiply then add integers.\n",
    "(3*4)+5"
   ]
  },
  {
   "cell_type": "code",
   "execution_count": 25,
   "id": "2917fc4f-6771-454b-8f96-6c656d8deb04",
   "metadata": {},
   "outputs": [
    {
     "data": {
      "text/plain": [
       "3.3333333333333335"
      ]
     },
     "execution_count": 25,
     "metadata": {},
     "output_type": "execute_result"
    }
   ],
   "source": [
    "#This will convert 200 minutes to hours by diving by 60.\n",
    "200/60"
   ]
  },
  {
   "cell_type": "markdown",
   "id": "ecbdb875-801f-4f10-beae-267889a84a9a",
   "metadata": {},
   "source": [
    "## Author\n",
    "Sangeon An"
   ]
  },
  {
   "cell_type": "code",
   "execution_count": null,
   "id": "b8b91dc9-fc4a-4e63-a784-ad0a22646ae5",
   "metadata": {},
   "outputs": [],
   "source": []
  }
 ],
 "metadata": {
  "kernelspec": {
   "display_name": "Python [conda env:base] *",
   "language": "python",
   "name": "conda-base-py"
  },
  "language_info": {
   "codemirror_mode": {
    "name": "ipython",
    "version": 3
   },
   "file_extension": ".py",
   "mimetype": "text/x-python",
   "name": "python",
   "nbconvert_exporter": "python",
   "pygments_lexer": "ipython3",
   "version": "3.12.7"
  }
 },
 "nbformat": 4,
 "nbformat_minor": 5
}
